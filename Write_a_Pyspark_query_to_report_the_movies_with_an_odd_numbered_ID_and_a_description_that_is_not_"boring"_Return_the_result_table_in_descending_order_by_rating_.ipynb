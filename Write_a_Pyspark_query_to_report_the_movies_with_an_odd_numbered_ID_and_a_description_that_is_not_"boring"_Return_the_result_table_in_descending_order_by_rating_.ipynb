{
  "nbformat": 4,
  "nbformat_minor": 0,
  "metadata": {
    "colab": {
      "provenance": [],
      "authorship_tag": "ABX9TyNu8frhhLppGe+ABWggO/FD",
      "include_colab_link": true
    },
    "kernelspec": {
      "name": "python3",
      "display_name": "Python 3"
    },
    "language_info": {
      "name": "python"
    }
  },
  "cells": [
    {
      "cell_type": "markdown",
      "metadata": {
        "id": "view-in-github",
        "colab_type": "text"
      },
      "source": [
        "<a href=\"https://colab.research.google.com/github/Venky710/new-code/blob/main/Write_a_Pyspark_query_to_report_the_movies_with_an_odd_numbered_ID_and_a_description_that_is_not_%22boring%22_Return_the_result_table_in_descending_order_by_rating_.ipynb\" target=\"_parent\"><img src=\"https://colab.research.google.com/assets/colab-badge.svg\" alt=\"Open In Colab\"/></a>"
      ]
    },
    {
      "cell_type": "code",
      "execution_count": null,
      "metadata": {
        "colab": {
          "base_uri": "https://localhost:8080/"
        },
        "id": "U_8YUD90bLV_",
        "outputId": "954b0c25-d3af-4922-e6ec-3fe7cda02ce0"
      },
      "outputs": [
        {
          "output_type": "stream",
          "name": "stdout",
          "text": [
            "Mounted at /content/drive\n",
            "Collecting pyspark\n",
            "  Downloading pyspark-3.5.0.tar.gz (316.9 MB)\n",
            "\u001b[2K     \u001b[90m━━━━━━━━━━━━━━━━━━━━━━━━━━━━━━━━━━━━━━━━\u001b[0m \u001b[32m316.9/316.9 MB\u001b[0m \u001b[31m4.6 MB/s\u001b[0m eta \u001b[36m0:00:00\u001b[0m\n",
            "\u001b[?25h  Preparing metadata (setup.py) ... \u001b[?25l\u001b[?25hdone\n",
            "Requirement already satisfied: py4j==0.10.9.7 in /usr/local/lib/python3.10/dist-packages (from pyspark) (0.10.9.7)\n",
            "Building wheels for collected packages: pyspark\n",
            "  Building wheel for pyspark (setup.py) ... \u001b[?25l\u001b[?25hdone\n",
            "  Created wheel for pyspark: filename=pyspark-3.5.0-py2.py3-none-any.whl size=317425344 sha256=77003bd65f1a0b2583dac62ed64280a0b9242f9939cf35147adf79bc9bdf8b43\n",
            "  Stored in directory: /root/.cache/pip/wheels/41/4e/10/c2cf2467f71c678cfc8a6b9ac9241e5e44a01940da8fbb17fc\n",
            "Successfully built pyspark\n",
            "Installing collected packages: pyspark\n",
            "Successfully installed pyspark-3.5.0\n"
          ]
        }
      ],
      "source": [
        "from google.colab import drive\n",
        "drive.mount('/content/drive')\n",
        "\n",
        "!pip install pyspark"
      ]
    },
    {
      "cell_type": "code",
      "source": [
        "from pyspark.sql import SparkSession\n",
        "spark = SparkSession.builder.appName(\"average\").getOrCreate()"
      ],
      "metadata": {
        "id": "J_bux4PMbo7M"
      },
      "execution_count": null,
      "outputs": []
    },
    {
      "cell_type": "code",
      "source": [
        "data = [\n",
        " (1 ,\"War\" , \"great 3D\", 8.9 ),\n",
        "(2 ,\"Science\", \"fiction\", 8.5  ),\n",
        "(3 ,\"irish\" , \"boring\" , 6.2  ),\n",
        "(4 ,\"Ice song\" ,\"Fantacy\", 8.6 ),\n",
        "(5 ,\"House card\" ,\"Interesting\" ,9.1),\n",
        "]\n",
        "columns = [\"id\" , \"movie\"  ,\"description\" ,\"rating\"]\n",
        "df1 = spark.createDataFrame(data = data, schema = columns)\n",
        "df1.show()"
      ],
      "metadata": {
        "colab": {
          "base_uri": "https://localhost:8080/"
        },
        "id": "9SJz1R04btIr",
        "outputId": "c3e2df66-2a57-44e2-dca5-77cc23545133"
      },
      "execution_count": null,
      "outputs": [
        {
          "output_type": "stream",
          "name": "stdout",
          "text": [
            "+---+----------+-----------+------+\n",
            "| id|     movie|description|rating|\n",
            "+---+----------+-----------+------+\n",
            "|  1|       War|   great 3D|   8.9|\n",
            "|  2|   Science|    fiction|   8.5|\n",
            "|  3|     irish|     boring|   6.2|\n",
            "|  4|  Ice song|    Fantacy|   8.6|\n",
            "|  5|House card|Interesting|   9.1|\n",
            "+---+----------+-----------+------+\n",
            "\n"
          ]
        }
      ]
    },
    {
      "cell_type": "code",
      "source": [
        "from pyspark.sql.functions  import col\n",
        "df2 = df1.filter((col(\"description\" )!= \"boring\") & (col(\"id\") % 2 == 1)) \\\n",
        "       .sort(col(\"rating\").desc())\n",
        "df2.show()\n",
        "\n"
      ],
      "metadata": {
        "colab": {
          "base_uri": "https://localhost:8080/"
        },
        "id": "3xnUTsNvd8NP",
        "outputId": "b5ebab88-8253-484d-bab9-58f703b0ad32"
      },
      "execution_count": null,
      "outputs": [
        {
          "output_type": "stream",
          "name": "stdout",
          "text": [
            "+---+----------+-----------+------+\n",
            "| id|     movie|description|rating|\n",
            "+---+----------+-----------+------+\n",
            "|  5|House card|Interesting|   9.1|\n",
            "|  1|       War|   great 3D|   8.9|\n",
            "+---+----------+-----------+------+\n",
            "\n"
          ]
        }
      ]
    },
    {
      "cell_type": "code",
      "source": [
        "df2 = orderBy(col(\"rating\")).desc()\n",
        "df2.show()"
      ],
      "metadata": {
        "colab": {
          "base_uri": "https://localhost:8080/",
          "height": 197
        },
        "id": "aXN0c-ZAgZO5",
        "outputId": "b96313cb-4eeb-4cc4-b4f5-f962ae20b8c3"
      },
      "execution_count": null,
      "outputs": [
        {
          "output_type": "error",
          "ename": "NameError",
          "evalue": "ignored",
          "traceback": [
            "\u001b[0;31m---------------------------------------------------------------------------\u001b[0m",
            "\u001b[0;31mNameError\u001b[0m                                 Traceback (most recent call last)",
            "\u001b[0;32m<ipython-input-53-87569b69addc>\u001b[0m in \u001b[0;36m<cell line: 1>\u001b[0;34m()\u001b[0m\n\u001b[0;32m----> 1\u001b[0;31m \u001b[0mdf2\u001b[0m \u001b[0;34m=\u001b[0m \u001b[0morderBy\u001b[0m\u001b[0;34m(\u001b[0m\u001b[0mcol\u001b[0m\u001b[0;34m(\u001b[0m\u001b[0;34m\"rating\"\u001b[0m\u001b[0;34m)\u001b[0m\u001b[0;34m)\u001b[0m\u001b[0;34m.\u001b[0m\u001b[0mdesc\u001b[0m\u001b[0;34m(\u001b[0m\u001b[0;34m)\u001b[0m\u001b[0;34m\u001b[0m\u001b[0;34m\u001b[0m\u001b[0m\n\u001b[0m\u001b[1;32m      2\u001b[0m \u001b[0mdf2\u001b[0m\u001b[0;34m.\u001b[0m\u001b[0mshow\u001b[0m\u001b[0;34m(\u001b[0m\u001b[0;34m)\u001b[0m\u001b[0;34m\u001b[0m\u001b[0;34m\u001b[0m\u001b[0m\n",
            "\u001b[0;31mNameError\u001b[0m: name 'orderBy' is not defined"
          ]
        }
      ]
    }
  ]
}